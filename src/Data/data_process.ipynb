{
 "cells": [
  {
   "cell_type": "code",
   "execution_count": 1,
   "metadata": {},
   "outputs": [],
   "source": [
    "import pandas as pd\n",
    "\n",
    "import numpy as np"
   ]
  },
  {
   "cell_type": "code",
   "execution_count": 18,
   "metadata": {},
   "outputs": [],
   "source": [
    "df_e = pd.read_csv('english.csv')"
   ]
  },
  {
   "cell_type": "code",
   "execution_count": 19,
   "metadata": {},
   "outputs": [],
   "source": [
    "df_c = pd.read_csv('chinese.csv')"
   ]
  },
  {
   "cell_type": "code",
   "execution_count": 22,
   "metadata": {},
   "outputs": [],
   "source": [
    "indices = []\n",
    "english = dict()\n",
    "slides = []\n",
    "for i, row in df_c.iterrows():\n",
    "    new_dict = {}\n",
    "    if isinstance(row['toc'], str):\n",
    "        indices.append(i)\n",
    "    new_dict['caption'] = str(row['toc'])\n",
    "\n",
    "    if isinstance(row['two'], str):\n",
    "        new_dict['one'] = {'title': row['title'], \n",
    "                           'author': row['author1'], \n",
    "                           'text': row['one']\n",
    "                          }\n",
    "        new_dict['two'] = {'title': row['title2'], \n",
    "                       'author': row['author2'], \n",
    "                       'text': row['two']\n",
    "                      }\n",
    "    else:\n",
    "        new_dict['title'] = row['title']\n",
    "        new_dict[\"author\"] = row['author1']\n",
    "        new_dict['text'] = row['one']\n",
    "    slides.append(new_dict)\n",
    "english['slides'] = slides\n",
    "    "
   ]
  },
  {
   "cell_type": "code",
   "execution_count": 23,
   "metadata": {
    "collapsed": true
   },
   "outputs": [
    {
     "data": {
      "text/plain": [
       "'[{\"caption\": \"自然的声音\", \"title\": \"自然的声音\", \"author\": \"Christina Lai, Michelle Fang\", \"text\": \"探索北京的旅程，就从清晨的鸟鸣声开始吧。我们看见绿叶，闻见花香，看到灰蒙蒙的天空下大树舒展开枝桠。但我们常常看不见那些声音的缔造者。不过，我们至少还有机会仔细聆听。\"}, {\"caption\": \"nan\", \"title\": \"鸟鸣声\", \"author\": \"Arjun Sai, Eli Morimoto\", \"text\": \"点击左图，你会听到清华校园里乌鸫的啼鸣，它们也叫百舌鸟，总在立春后鸣叫不已。右下方的视频摄于后海，你需要在其中辨别清脆的鸟鸣声和电动车的报警声。在两段录音里，你都会听到「自然」和「人类生活」的混杂。\"}, {\"caption\": \"nan\", \"title\": \"京郊探险\", \"author\": \"Serge-Raymond Nzabandora\", \"text\": \"北京不仅有钢筋水泥，车水马龙。周末，我们的同学也常去探索京郊的新奇与美好。北方的水镇，生命力旺盛的野长城，莽莽山脉，落日余晖，这些是在北京城内领略不到的风光。\"}, {\"caption\": \"赛博世界\", \"title\": \"机器与人，替代？\", \"author\": \"Gurchit Chatha, Pearl Xu\", \"text\": \"机器人已经渗透进我们的生活。在宾馆，机器人可以帮你送外卖到你的房间门口。在清华校园，机器人可以帮厨师完成一些机械的削面工作。\"}, {\"caption\": \"nan\", \"title\": \"机器与人，共生？\", \"author\": \"Raven Witherspoon, Alex Zhao, Chen Xiao\", \"text\": \"机器声围绕在生活的每一刻。无论你在开车还是骑自行车，只要开了导航，语音指引会一直伴随耳畔；解锁共享单车时，单车会发出可爱的语音提示；电动三轮车倒车时也会反复叫唤：「倒车请注意」。在丰富多彩的中国生活中，眼睛要看的东西越来越多，耳朵则能帮助眼睛分担观察世界的压力。\"}, {\"caption\": \"唱啊，跳啊\", \"one\": {\"title\": \"「看不见」的吹奏者\", \"author\": \"Hasani Arnold\", \"text\": \"我们的同学邂逅了两位民间音乐家。一位音乐家来自清华，很神秘，没有露面，只是从一个简陋的岗亭里传来了他演奏乐器的声音。\"}, \"two\": {\"title\": \"对「空」指挥\", \"author\": \"Gurchit Chatha\", \"text\": \"另一位老人旁若无人地练习着交响乐指挥，情绪饱满，湖面、绿树和斜阳是他的观众。\"}}, {\"caption\": \"nan\", \"one\": {\"title\": \"中国广场舞\", \"author\": \"Gurchit Chatha\", \"text\": \"北京的公共空间里充满了音乐声。广场舞是最典型的场景，一台音响，一块空地，无数中国「大妈」就能舞动起来。尽管他们曾无数次被投诉「扰民」，但这些投诉丝毫没有减少她们跳舞的热情。\"}, \"two\": {\"title\": \"舞动冬奥\", \"author\": \"Lujain Ibrahim\", \"text\": \"冬日的街头，一群冬奥会志愿者正伴着音乐的节拍起舞。这次冬奥会共录用了18000多名志愿者。\"}}, {\"caption\": \"北京公园里\", \"title\": \"毽子，歌曲，空竹\", \"author\": \"Gurchit Chatha, Alex Li\", \"text\": \"在樱花绽放的玉渊潭，两位大姐展示起她们练了十几年的踢毽子技巧。在景山，一群老年人正在合唱《打靶归来》，这是首在中国家喻户晓的歌曲。在青年湖公园，一位大叔正在玩「空竹」，这是一种中国的传统民间玩具，他时而提拉，时而抛扔，空竹一会儿在他身后，一会儿高过头顶，一会儿穿梭腿间……「嗡唔嗡唔」……\"}, {\"caption\": \"nan\", \"title\": \"黄发垂髫\", \"author\": \"Ben Ma, Jenn Hu\", \"text\": \"北京的公园总是生机勃勃。在地坛，一位正在打快板儿的老太太唱道：「今天的北京更多彩了，绚丽夺目、闪闪发光，它照亮了北京人。」另一个视频还是在地坛，一位老人在用手风琴演奏《莫斯科郊外的晚上》，一位老人在指挥着演奏，还有一些老人在歌唱。而在北海，我们记录下了孩子的欢笑声。\"}, {\"caption\": \"服从与崇拜\", \"one\": {\"title\": \"服从\", \"author\": \"Christina Lai\", \"text\": \"这一组声音叫做「服从与崇拜」。清华校园里，学生一度被要求每天做核酸，如果不遵守，等待你的可能是紫荆码变红，校园的正常生活受阻。\"}, \"two\": {\"title\": \"崇拜\", \"author\": \"Lujain Ibrahim\", \"text\": \"另一则视频，是天安门的游人如织。游客来到北京，总爱去天安门看升旗。百年屈辱之后，中华人民共和国在那里宣布成立。那是中国民族自豪感的象征。\"}}, {\"caption\": \"北京街头\", \"title\": \"胡同与街头\", \"author\": \"Karuna Nandkumar, Christina Lai\", \"text\": \"北京的街头丰富多彩。自行车在马路上骑过，叠加了外卖小哥疾驰而过的喇叭声，这是当代中国的著名街景，外卖骑手在马路上违反交规、争分夺秒，只为完成更多订单。在马路上，你还能听到各种店铺叫卖的声音——店家们提前用广播录好固定的推广语，从而循环往复播放，吸引路人。北京的特别之处还在于胡同，胡同里尽是生活，孩子的嬉闹，大人的训斥，拍皮球声，都被记录在声音里。\"}, {\"caption\": \"北京夜生活\", \"one\": {\"title\": \"三里屯酒吧\", \"author\": \"Zhou Yu\", \"text\": \"疫情前的酒吧与夜店。在封控时期，这些曾习以为常的吵闹和喧嚣好像恍如隔世。\"}, \"two\": {\"title\": \"Destination\", \"author\": \"Raven Witherspoon\", \"text\": \"右边是北京著名的同志酒吧Destination。在夜晚，一群藏身于现实生活中的人可以在这里做自己。\"}}, {\"caption\": \"nan\", \"one\": {\"title\": \"流浪歌手的吟唱\", \"author\": \"Raven Witherspoon\", \"text\": \"动人的歌曲可以来自任何地方和任何人。一首来自北京街头的流浪歌手，来自人潮涌动的街畔，关于粗粝和坚硬的生活。\"}, \"two\": {\"title\": \"北京KTV\", \"author\": \"Karuna Nandkumar\", \"text\": \"另一首来自苏世民书院的学者，来自众人欢唱的KTV里，关于时间消磨不了的友情。\"}}, {\"caption\": \"多彩音乐会\", \"one\": {\"title\": \"PH说唱歌手\", \"author\": \"Trevaughn Latimer\", \"text\": \"北京Club里的一场说唱表演。近几年，随着说唱节目在网络流行，说唱文化逐渐走入中国公众视野，但同时也面对着自我表达与内容审查间的张力，不少歌词在电视节目中受到阉割。\"}, \"two\": {\"title\": \"圣诞歌会\", \"author\": \"Zhou Yu\", \"text\": \"2021年冬，北京的圣诞。所有同学一起唱圣诞歌，迎接这个在西方国家最重要的节日。在西方，圣诞节就像我们的春节，许多外国同学想家了。\"}}, {\"caption\": \"nan\", \"title\": \"多彩音乐会\", \"author\": \"Christina Lai, Jenn Hu, Karuna Nandkumar\", \"text\": \"在北京，你不会担忧时间无处打发，许多不同类型的音乐会在等着你。\"}, {\"caption\": \"nan\", \"title\": \"校园里的乐与爱\", \"author\": \"Zhou Yu, Sally Xu\", \"text\": \"清华校车缓缓行驶，播放着情歌《小酒窝》。几乎每一个中国的90后，都会知道这首甜甜的、让人听了想谈恋爱的歌。左边的视频里，因为Ben和Ava的演唱过于甜，小笛（中）似乎忘记了自己要吹笛子。\"}, {\"caption\": \"nan\", \"one\": {\"title\": \"清华乐队\", \"author\": \"Trevaughn Latimer\", \"text\": \"清华的校园生活丰富多彩，看到一场心仪的乐队表演不是难事。\"}, \"two\": {\"title\": \"维吾尔族音乐\", \"author\": \"Trevaughn Latimer\", \"text\": \"来自新疆的演奏者来到苏世民书院，为同学们弹奏了颇具民族风情的音乐。\"}}, {\"caption\": \"美食\", \"title\": \"食物前史\", \"author\": \"Selena Guo, Trevaughn Latimer, Hasani Arnold\", \"text\": \"我们也记录下了一些食物出台前的声音。C楼天猫超市，店铺小哥做烤冷面的声音，煎锅上的“嘶嘶”声不绝于耳。紫荆食堂一楼的广东橱窗，师傅切叉烧的声音，闹哄哄，热腾腾。在一家海鲜市场，鱼铺老板杀鱼的声音，麻利而血腥。\"}, {\"caption\": \"运动\", \"title\": \"运动的「节奏」\", \"author\": \"Trevaughn Latimer, Vodka Fu\", \"text\": \"拔河的精髓在于节奏一致。同学们依靠喊着「one two three」来保持节奏，很快赢得了比赛的胜利。左侧，凉爽的夏夜里，清华龙舟队正在训练。铿锵有力的鼓声控制着队员们划桨的节奏，船桨荡开湖面，传来一阵阵清冽的水波声。\"}, {\"caption\": \"nan\", \"one\": {\"title\": \"点球大战\", \"author\": \"Yucheng Tang\", \"text\": \"点球大战时，每一粒球都足够让人屏息以待。——“咚”，球进了。对于观众而言，等待球员踢出那一脚时有多紧张，看到进球后的欢呼与快乐也就多真切。\"}, \"two\": {\"title\": \"中场休息\", \"author\": \"Sally Xu\", \"text\": \"队伍比分暂时落后，中场休息结束时，足球队员与教练们互相给彼此打气。\"}}, {\"caption\": \"封锁\", \"title\": \"「关闭」的校园\", \"author\": \"Sally Xu, Yucheng Tang, Pearl Xu\", \"text\": \"五月，因为北京疫情，学校进入了封控状态。最初只是不能出学校，同学们在操场上唱歌，野餐，在星空下聊天。后来，我们开始不能点外卖，拿快递需要到集中的地点，喷上消毒液后放上一分钟才能领取。再后来，学校四周的栏杆钉上了木板，我们看不见外面的世界。这三份文件记录了这些声音片段。\"}, {\"caption\": \"告别\", \"one\": {\"title\": \"「我想你们」\", \"author\": \"Sally Xu\", \"text\": \"五月开始，很多同学提前离开学校，回到各自的家乡。视频最后，Haris用中文告诉大家：「我想念你们。」\"}, \"two\": {\"title\": \"坐着离开\", \"author\": \"Michelle Fang\", \"text\": \"我们的足球队长在比赛中负伤。因为疫情，校医院的核磁共振暂时关闭，如果一旦出校，他就暂时无法回来。艰难抉择后，他决定提前和大家告别。\"}}]'"
      ]
     },
     "execution_count": 23,
     "metadata": {},
     "output_type": "execute_result"
    }
   ],
   "source": [
    "import json\n",
    "\n",
    "json.dumps(english['slides'], ensure_ascii=False)\n"
   ]
  },
  {
   "cell_type": "code",
   "execution_count": 108,
   "metadata": {},
   "outputs": [],
   "source": [
    "indices = np.array(indices) + 1"
   ]
  },
  {
   "cell_type": "code",
   "execution_count": 109,
   "metadata": {},
   "outputs": [
    {
     "data": {
      "text/plain": [
       "array([ 1,  4,  6,  8, 10, 11, 12, 14, 18, 19, 21, 22])"
      ]
     },
     "execution_count": 109,
     "metadata": {},
     "output_type": "execute_result"
    }
   ],
   "source": [
    "indices"
   ]
  },
  {
   "cell_type": "code",
   "execution_count": 1,
   "metadata": {},
   "outputs": [],
   "source": [
    "import pandas as pd\n",
    "import numpy as np\n",
    "import matplotlib.pyplot as plt\n",
    "import sklearn\n",
    "from sklearn import *\n",
    "import seaborn as sns\n",
    "%matplotlib inline\n"
   ]
  },
  {
   "cell_type": "markdown",
   "metadata": {},
   "source": [
    "## Helper functions"
   ]
  },
  {
   "cell_type": "code",
   "execution_count": 2,
   "metadata": {},
   "outputs": [],
   "source": [
    "# converts index to unique key for each row\n",
    "def makevcfkey(df):\n",
    "    chrpos=[str(x)+'-'+str(y) for x,y in zip(df[0],df[1])]\n",
    "    refalt=[x+'-'+y for x,y in zip(df[3],df[4])]\n",
    "    keyf=[x+'-'+y for x,y in zip(chrpos,refalt)]\n",
    "    return keyf\n",
    "\n",
    "# converts phased data to dosage\n",
    "def phased2dose(x):\n",
    "    if x==x:\n",
    "        if '|' in x:\n",
    "            return np.sum([int(y) for y in x.split('|')])\n",
    "        else:\n",
    "            return int(x)\n",
    "    else:\n",
    "        return np.nan\n",
    "\n",
    "# converts unphased data to dosage\n",
    "def unphased2dose(x):\n",
    "    if x==x:\n",
    "        if '/' in x:\n",
    "            return np.sum([int(y) for y in x.split('/')])\n",
    "        else:\n",
    "            return int(x)\n",
    "    else:\n",
    "        return np.nan\n",
    "\n",
    "def unphased2DP(x):\n",
    "    if x==x:\n",
    "        if '/' in x:\n",
    "            return np.sum([int(y) for y in x.split(',')[-1].split(':')])\n",
    "        else:\n",
    "            return int(x)\n",
    "    else:\n",
    "        return np.nan\n",
    "\n",
    "def unphased2readrat(x):\n",
    "    if x==x:\n",
    "        if '/' in x:\n",
    "            allelereads=[int(y) for y in x.split(',')[-1].split(':')]\n",
    "            return allelereads[1]/np.sum(allelereads)\n",
    "        else:\n",
    "            return int(x)\n",
    "    else:\n",
    "        return np.nan\n",
    "    \n",
    "    \n",
    "def imputed2dose(x):\n",
    "    if x==x:\n",
    "        return float(x.split(':')[-1])\n",
    "    else:\n",
    "        return np.nan\n",
    "    \n",
    "def imputed2call(x):\n",
    "    if x==x:\n",
    "        return x.split(':')[0]\n",
    "    else:\n",
    "        return np.nan"
   ]
  },
  {
   "cell_type": "code",
   "execution_count": 3,
   "metadata": {},
   "outputs": [],
   "source": [
    "df_truth=pd.read_csv('./example/chr22_all_500.vcf',comment='#',header=None,sep='\\t')\n",
    "df_truth.index=makevcfkey(df_truth)"
   ]
  },
  {
   "cell_type": "code",
   "execution_count": 4,
   "metadata": {},
   "outputs": [],
   "source": [
    "df_imputed=pd.read_csv('./example/chr22_imputed_500.vcf',comment='#',header=None,sep='\\t')\n",
    "df_imputed.index=makevcfkey(df_imputed)"
   ]
  },
  {
   "cell_type": "markdown",
   "metadata": {},
   "source": [
    "## Todo\n",
    "\n",
    "## Caveats\n",
    "\n",
    "* didn't unphase data before imputation\n",
    "\n",
    "\n",
    "## Things to Resolve do next\n",
    "\n",
    "* why are there only a subset of variants overlapping (looks like fewer in imputed than truth)\n",
    "* try with different amounts of downsampling\n",
    "* evaluate sensitivity/specifity/R^2 as a function these three things\n",
    "\n",
    "- MAF / AF = allelefrequency\n",
    "- sex\n",
    "- ethnicity\n",
    "\n",
    "* rando duplicated - index? - one row - nbd\n",
    "\n"
   ]
  },
  {
   "cell_type": "code",
   "execution_count": 5,
   "metadata": {},
   "outputs": [],
   "source": [
    "df_truth = df_truth.iloc[~df_truth.index.duplicated(), :]\n",
    "df_imputed = df_imputed.loc[~df_imputed.index.duplicated(), :]"
   ]
  },
  {
   "cell_type": "code",
   "execution_count": 6,
   "metadata": {},
   "outputs": [],
   "source": [
    "## select variants in both the imputed and original\n",
    "inboth=list(set(df_truth.index).intersection(df_imputed.index))"
   ]
  },
  {
   "cell_type": "code",
   "execution_count": 7,
   "metadata": {},
   "outputs": [],
   "source": [
    "# retrieves only data by excluding initial columns\n",
    "\n",
    "df_truth_data_only = df_truth.loc[inboth].iloc[:,9:]\n",
    "df_imputed_data_only = df_imputed.loc[inboth].iloc[:,9:]"
   ]
  },
  {
   "cell_type": "code",
   "execution_count": 8,
   "metadata": {},
   "outputs": [],
   "source": [
    "assert len(df_truth_data_only) == len(df_imputed_data_only)"
   ]
  },
  {
   "cell_type": "code",
   "execution_count": 9,
   "metadata": {},
   "outputs": [],
   "source": [
    "## check that there are no duplicate rows\n",
    "\n",
    "assert df_truth_data_only.index.duplicated().sum() == 0\n",
    "assert df_imputed_data_only.index.duplicated().sum() == 0"
   ]
  },
  {
   "cell_type": "code",
   "execution_count": 10,
   "metadata": {},
   "outputs": [],
   "source": [
    "# set flag if variant was imputed\n",
    "IMPUTED_FLAG = df_imputed[7].str.contains('IMPUTED').loc[inboth]"
   ]
  },
  {
   "cell_type": "code",
   "execution_count": 41,
   "metadata": {},
   "outputs": [],
   "source": [
    "def calc_corr_coeff(df_truth_data_only, df_imputed_data_only, imputed_flag):\n",
    "\n",
    "    # convert phased data to dosages\n",
    "\n",
    "    dftruthdose=[]\n",
    "    for col in df_truth_data_only.columns:\n",
    "        dftruthdose.append(df_truth_data_only[col].apply(lambda x: phased2dose(x)))\n",
    "\n",
    "    df_truthdose=pd.concat(dftruthdose,axis=1)\n",
    "\n",
    "    # convert phased data to dosages\n",
    "\n",
    "    dfimputeddose=[]\n",
    "    for col in df_imputed_data_only.columns:\n",
    "        dfimputeddose.append(df_imputed_data_only[col].apply(lambda x: imputed2dose(x)))\n",
    "\n",
    "    df_imputeddose=pd.concat(dfimputeddose,axis=1)\n",
    "    \n",
    "    flatimputed = df_imputeddose[IMPUTED_FLAG].values.flatten()\n",
    "    flattruth = df_truthdose[IMPUTED_FLAG].values.flatten()\n",
    "    corr_imputed = np.corrcoef(flatimputed,flattruth)\n",
    "    \n",
    "    flatimputed=df_imputeddose[~IMPUTED_FLAG].values.flatten()\n",
    "    flattruth=df_truthdose[~IMPUTED_FLAG].values.flatten()\n",
    "    corr_not_imputed = np.corrcoef(flatimputed,flattruth)\n",
    "    \n",
    "    return corr_imputed, corr_not_imputed"
   ]
  },
  {
   "cell_type": "markdown",
   "metadata": {},
   "source": [
    "### correlation coeff"
   ]
  },
  {
   "cell_type": "code",
   "execution_count": 102,
   "metadata": {},
   "outputs": [],
   "source": [
    "corr_100k = corr"
   ]
  },
  {
   "cell_type": "code",
   "execution_count": null,
   "metadata": {},
   "outputs": [],
   "source": [
    "corr = calc_corr_coeff(df_truth_data_only, df_imputed_data_only, IMPUTED_FLAG)"
   ]
  },
  {
   "cell_type": "code",
   "execution_count": 43,
   "metadata": {},
   "outputs": [
    {
     "name": "stdout",
     "output_type": "stream",
     "text": [
      "[[1.         0.95984977]\n",
      " [0.95984977 1.        ]]\n",
      "[[1.         0.99225287]\n",
      " [0.99225287 1.        ]]\n"
     ]
    }
   ],
   "source": [
    "print(corr[0])\n",
    "print(corr[1])"
   ]
  },
  {
   "cell_type": "markdown",
   "metadata": {},
   "source": [
    "## confusion matrix"
   ]
  },
  {
   "cell_type": "code",
   "execution_count": null,
   "metadata": {},
   "outputs": [],
   "source": [
    "## calculates confusion matrix for all data (both imputed and not)"
   ]
  },
  {
   "cell_type": "code",
   "execution_count": 11,
   "metadata": {},
   "outputs": [],
   "source": [
    "import time"
   ]
  },
  {
   "cell_type": "code",
   "execution_count": 19,
   "metadata": {},
   "outputs": [],
   "source": [
    "def calc_confusion_f1(df_truth_data_only, df_imputed_data_only, imputed_flag):\n",
    "    \"\"\"\n",
    "    Function to return confusion matrix and f1 score.\n",
    "    \n",
    "    df_truth_data_only : pd.DataFrame\n",
    "        df_truth contains the true values for the data. \n",
    "        df_truth contains only data, not the first few columns of metadata.\n",
    "    df_imputed_data_only : pd.DataFrame\n",
    "        df_imputed contains imputed values.\n",
    "    imputed_flag : Series\n",
    "        imputed_flag contains which rows were imputed variants.\n",
    "    \n",
    "    \"\"\"\n",
    "\n",
    "    # convert imputed values to just the predicted class\n",
    "    start = time.time()\n",
    "    dfimputedcall=[]\n",
    "    for col in df_imputed_data_only.columns:\n",
    "        dfimputedcall.append(df_imputed_data_only[col].apply(lambda x: imputed2call(x)))\n",
    "    print(\"Time to process imputed columns\", time.time() - start)\n",
    "    start = time.time()\n",
    "\n",
    "    df_imputedcall = pd.concat(dfimputedcall, axis=1)\n",
    "    \n",
    "    truth = df_truth_data_only.values.flatten()\n",
    "    preds = df_imputedcall.values.flatten()\n",
    "\n",
    "    # merge 1|0 and 0|1 preds\n",
    "    truth = ['0|1' if elem == '1|0' else elem for elem in truth]\n",
    "    preds = ['0|1' if elem == '1|0' else elem for elem in preds]\n",
    "    print(\"Time to flatten\", time.time() - start)\n",
    "    start = time.time()\n",
    "    \"\"\"\n",
    "\n",
    "    labelvec = np.unique(truth)\n",
    "    \n",
    "    # confusion matrix for all values\n",
    "    CONF = sklearn.metrics.confusion_matrix(truth, preds)\n",
    "    print(\"Time to calc confusion matrix\", time.time() - start)\n",
    "\n",
    "    plt.figure(figsize=(10, 5))\n",
    "    plt.subplot(1, 2, 1)\n",
    "    df_CONF=pd.DataFrame(CONF)\n",
    "    df_CONF.index=labelvec\n",
    "    df_CONF.columns=labelvec\n",
    "\n",
    "    plt.title(\"Confusion matrix for all data (imputed/non-imputed)\")\n",
    "    df_NORM= df_CONF / df_CONF.sum()\n",
    "    sns.heatmap(np.log10(df_NORM))\n",
    "    \n",
    "    truth = df_truth_data_only[imputed_flag].values.flatten()\n",
    "    preds = df_imputedcall[imputed_flag].values.flatten()\n",
    "\n",
    "    # merge 1|0 and 0|1 preds\n",
    "    truth = ['0|1' if elem == '1|0' else elem for elem in truth]\n",
    "    preds = ['0|1' if elem == '1|0' else elem for elem in preds]\n",
    "\n",
    "    CONF = sklearn.metrics.confusion_matrix(truth, preds)\n",
    "    \n",
    "    # confusion matrix for imputed values\n",
    "    plt.figure(figsize=(10, 5))\n",
    "    plt.subplot(1, 2, 2)\n",
    "    df_CONF=pd.DataFrame(CONF)\n",
    "    df_CONF.index=labelvec\n",
    "    df_CONF.columns=labelvec\n",
    "\n",
    "    sns.heatmap(np.log10(df_CONF))\n",
    "    ## calculate weighted f1 score for just imputed values\n",
    "    \"\"\"\n",
    "    return sklearn.metrics.f1_score(truth, preds, average='macro')"
   ]
  },
  {
   "cell_type": "code",
   "execution_count": 20,
   "metadata": {},
   "outputs": [],
   "source": [
    "f1_score_100k = 0.9819091196583315"
   ]
  },
  {
   "cell_type": "code",
   "execution_count": null,
   "metadata": {},
   "outputs": [],
   "source": [
    "f1_score = calc_confusion_f1(df_truth_data_only, df_imputed_data_only, IMPUTED_FLAG)"
   ]
  },
  {
   "cell_type": "markdown",
   "metadata": {},
   "source": [
    "## check demographic data"
   ]
  },
  {
   "cell_type": "code",
   "execution_count": 46,
   "metadata": {},
   "outputs": [],
   "source": [
    "# to do: need right header"
   ]
  },
  {
   "cell_type": "code",
   "execution_count": 47,
   "metadata": {},
   "outputs": [],
   "source": [
    "df_sampleinfo=pd.read_csv('./example/sample_info.csv')"
   ]
  },
  {
   "cell_type": "code",
   "execution_count": 48,
   "metadata": {},
   "outputs": [],
   "source": [
    "# collect header info with individual IDs\n",
    "\n",
    "header = np.loadtxt('header.txt', dtype=str, comments='##', delimiter='/t')\n",
    "header = np.expand_dims(header, axis=0)\n",
    "header = header[0].split('\\t')"
   ]
  },
  {
   "cell_type": "code",
   "execution_count": 49,
   "metadata": {},
   "outputs": [],
   "source": [
    "df_sex = dict()\n",
    "df_popul = dict()\n",
    "df_super_popul = dict()"
   ]
  },
  {
   "cell_type": "code",
   "execution_count": 50,
   "metadata": {},
   "outputs": [],
   "source": [
    "for col in df_imputed_data_only.columns:\n",
    "    row = df_sampleinfo[df_sampleinfo['Sample'] == header[col]]\n",
    "    df_sex[col] = row['Gender'].values[0]\n",
    "    df_popul[col] = row['Population'].values[0]\n",
    "    df_super_popul[col] = row['Super_Population'].values[0]"
   ]
  },
  {
   "cell_type": "code",
   "execution_count": 52,
   "metadata": {},
   "outputs": [],
   "source": [
    "sex = list(set(df_sex.values()))\n",
    "popul = list(set(df_popul.values()))\n",
    "super_pop = list(set(df_super_popul.values()))"
   ]
  },
  {
   "cell_type": "code",
   "execution_count": 56,
   "metadata": {},
   "outputs": [
    {
     "name": "stdout",
     "output_type": "stream",
     "text": [
      "['0|0' '0|0' '0|0' ... '0|0' '0|0' '0|0']\n",
      "['0|0' '0|0' '0|0' ... '0|0' '0|0' '0|0']\n",
      "['0|0' '0|0' '0|0' ... '0|0' '0|0' '0|0']\n",
      "['0|0' '0|0' '0|0' ... '0|0' '0|0' '0|0']\n"
     ]
    },
    {
     "data": {
      "image/png": "[encoded data removed]",
      "text/plain": [
       "<Figure size 720x360 with 2 Axes>"
      ]
     },
     "metadata": {
      "needs_background": "light"
     },
     "output_type": "display_data"
    },
    {
     "data": {
      "image/png": "[encoded data removed]",
      "text/plain": [
       "<Figure size 720x360 with 2 Axes>"
      ]
     },
     "metadata": {
      "needs_background": "light"
     },
     "output_type": "display_data"
    },
    {
     "data": {
      "image/png": "[encoded data removed]",
      "text/plain": [
       "<Figure size 720x360 with 2 Axes>"
      ]
     },
     "metadata": {
      "needs_background": "light"
     },
     "output_type": "display_data"
    },
    {
     "data": {
      "image/png": "[encoded data removed]",
      "text/plain": [
       "<Figure size 720x360 with 2 Axes>"
      ]
     },
     "metadata": {
      "needs_background": "light"
     },
     "output_type": "display_data"
    }
   ],
   "source": [
    "\n",
    "\n",
    "sex_f1_scores = []\n",
    "for elem in sex:\n",
    "    cols = [col for col in df_imputed_data_only.columns if df_sex[col] == elem]\n",
    "    sex_f1_scores.append(calc_confusion_f1(df_truth_data_only[cols], df_imputed_data_only[cols], IMPUTED_FLAG))"
   ]
  },
  {
   "cell_type": "code",
   "execution_count": 100,
   "metadata": {},
   "outputs": [
    {
     "data": {
      "text/plain": [
       "Text(-0.1, 0.982, '0.9819')"
      ]
     },
     "execution_count": 100,
     "metadata": {},
     "output_type": "execute_result"
    },
    {
     "data": {
      "image/png": "[encoded data removed]",
      "text/plain": [
       "<Figure size 432x288 with 1 Axes>"
      ]
     },
     "metadata": {
      "needs_background": "light"
     },
     "output_type": "display_data"
    }
   ],
   "source": [
    "plt.bar(range(2), sex_f1_scores)\n",
    "plt.xticks(range(2), labels=sex)\n",
    "plt.ylim(0.98, 0.985)\n",
    "plt.title(\"F1 scores by sex\")\n",
    "plt.annotate(round(sex_f1_scores[1], 4), (0.9, 0.982))\n",
    "plt.annotate(round(sex_f1_scores[0], 4), (-0.1, 0.982))"
   ]
  },
  {
   "cell_type": "code",
   "execution_count": 66,
   "metadata": {},
   "outputs": [
    {
     "name": "stdout",
     "output_type": "stream",
     "text": [
      "[315, 316, 317, 318, 319, 320, 321, 322, 323, 324, 325, 326, 327, 328, 329]\n",
      "['0|0' '0|0' '0|0' ... '0|0' '0|0' '0|0']\n",
      "['0|0' '0|0' '0|0' ... '0|0' '0|0' '0|0']\n",
      "[194, 195, 196, 197, 198, 199, 200, 201, 202, 203, 204, 205, 206, 207, 208, 209, 210, 211, 212, 213, 214, 215, 216, 217, 218, 219, 220, 221, 222, 223, 224, 225, 226, 227, 228, 229, 230, 231, 232, 233, 234, 235, 239, 240, 241, 242, 243, 244, 245, 246, 247, 248, 249, 250, 251, 252, 253, 254, 255, 256, 257, 258, 259, 260, 261, 262, 263, 264, 265, 266, 267, 268, 269, 270, 271, 272, 273, 278, 279, 280, 281, 282, 283, 284, 285, 286, 287, 288, 289, 290, 291, 292, 293, 294, 295, 296, 297, 298, 299, 300, 301, 302, 303, 304, 305]\n",
      "['0|0' '0|0' '0|0' ... '0|0' '0|0' '0|0']\n",
      "['0|0' '0|0' '0|0' ... '0|0' '0|0' '0|0']\n",
      "[9, 10, 11, 12, 13, 14, 15, 16, 17, 18, 19, 20, 21, 22, 23, 24, 25, 26, 27, 28, 29, 30, 31, 32, 33, 34, 35, 36, 37, 38, 39, 40, 41, 42, 43, 44, 45, 46, 47, 48, 49, 50, 51, 52, 53, 54, 55, 56, 57, 58, 59, 60, 61, 62, 63, 81, 82, 83, 84, 85, 86, 87, 88, 89, 90, 91, 92, 93, 94, 95, 96, 97, 98, 99, 100, 101, 102, 103, 104, 105, 106, 107, 108, 109, 110, 111, 441]\n",
      "['0|0' '0|0' '0|0' ... '0|0' '0|0' '0|0']\n",
      "['0|0' '0|0' '0|0' ... '0|0' '0|0' '0|0']\n",
      "[236, 237, 238, 274, 275, 276, 277, 306, 307, 308, 309, 310, 311, 312, 313, 314, 330, 331, 332, 333, 334, 335, 336, 337, 338, 339, 340, 341, 342, 343, 344, 345, 346, 347, 348, 349, 350, 351, 352, 353, 354, 355, 356, 357, 358, 359, 360, 361, 362, 363, 364, 365, 366, 367, 368, 369, 370, 389, 390, 391, 392, 393, 394, 395, 396, 397, 398, 399, 400, 401, 402, 403, 404, 405, 406, 407, 408, 409, 410, 411, 412, 413, 414, 431, 432, 433, 434, 435, 436, 437, 438, 439, 440, 469, 470, 471, 472, 473, 474, 475, 476, 477, 478, 479]\n",
      "['0|0' '0|0' '0|0' ... '0|0' '0|0' '0|0']\n",
      "['0|0' '0|0' '0|0' ... '0|0' '0|0' '0|0']\n",
      "[64, 65, 66, 67, 68, 69, 70, 71, 72, 73, 74, 75, 76, 77, 78, 79, 80, 112, 113, 114, 115, 116, 117, 118, 119, 120, 121, 122, 123, 124, 125, 126, 127, 128, 129, 130, 131, 132, 133, 134, 135, 136, 137, 138, 139, 140, 141, 142, 143, 144, 145, 146, 147, 148, 149, 150, 151, 152, 153, 154, 155, 156, 157, 158, 159, 160, 161, 162, 163, 164, 165, 166, 167, 168, 169, 170, 171, 172, 173, 174, 175, 176, 177, 178, 179, 180, 181, 182, 183, 184, 185, 186, 187, 188, 189, 190, 191, 192, 193]\n",
      "['0|0' '0|0' '0|0' ... '0|0' '0|0' '0|0']\n",
      "['0|0' '0|0' '0|0' ... '0|0' '0|0' '0|0']\n",
      "[371, 372, 373, 374, 375, 376, 377, 378, 379, 380, 381, 382, 383, 384, 385, 386, 387, 388, 415, 416, 417, 418, 419, 420, 421, 422, 423, 424, 425, 426, 427, 428, 429, 430, 442, 443, 444, 445, 446, 447, 448, 449, 450, 451, 452, 453, 454, 455, 456, 457, 458, 459, 460, 461, 462, 463, 464, 465, 466, 467, 468, 480, 481, 482, 483, 484, 485, 486, 487, 488, 489, 490, 491, 492, 493, 494, 495, 496, 497, 498, 499, 500, 501, 502, 503, 504, 505, 506, 507, 508, 509]\n",
      "['0|0' '0|0' '0|0' ... '0|0' '0|0' '0|0']\n",
      "['0|0' '0|0' '0|0' ... '0|0' '0|0' '0|0']\n"
     ]
    },
    {
     "data": {
      "image/png": "[encoded data removed]",
      "text/plain": [
       "<Figure size 720x360 with 2 Axes>"
      ]
     },
     "metadata": {
      "needs_background": "light"
     },
     "output_type": "display_data"
    },
    {
     "data": {
      "image/png": "[encoded data removed]",
      "text/plain": [
       "<Figure size 720x360 with 2 Axes>"
      ]
     },
     "metadata": {
      "needs_background": "light"
     },
     "output_type": "display_data"
    },
    {
     "data": {
      "image/png": "[encoded data removed]",
      "text/plain": [
       "<Figure size 720x360 with 2 Axes>"
      ]
     },
     "metadata": {
      "needs_background": "light"
     },
     "output_type": "display_data"
    },
    {
     "data": {
      "image/png": "[encoded data removed]",
      "text/plain": [
       "<Figure size 720x360 with 2 Axes>"
      ]
     },
     "metadata": {
      "needs_background": "light"
     },
     "output_type": "display_data"
    },
    {
     "data": {
      "image/png": "[encoded data removed]",
      "text/plain": [
       "<Figure size 720x360 with 2 Axes>"
      ]
     },
     "metadata": {
      "needs_background": "light"
     },
     "output_type": "display_data"
    },
    {
     "data": {
      "image/png": "[encoded data removed]",
      "text/plain": [
       "<Figure size 720x360 with 2 Axes>"
      ]
     },
     "metadata": {
      "needs_background": "light"
     },
     "output_type": "display_data"
    },
    {
     "data": {
      "image/png": "[encoded data removed]",
      "text/plain": [
       "<Figure size 720x360 with 2 Axes>"
      ]
     },
     "metadata": {
      "needs_background": "light"
     },
     "output_type": "display_data"
    },
    {
     "data": {
      "image/png": "[encoded data removed]",
      "text/plain": [
       "<Figure size 720x360 with 2 Axes>"
      ]
     },
     "metadata": {
      "needs_background": "light"
     },
     "output_type": "display_data"
    },
    {
     "data": {
      "image/png": "[encoded data removed]",
      "text/plain": [
       "<Figure size 720x360 with 2 Axes>"
      ]
     },
     "metadata": {
      "needs_background": "light"
     },
     "output_type": "display_data"
    },
    {
     "data": {
      "image/png": "[encoded data removed]",
      "text/plain": [
       "<Figure size 720x360 with 2 Axes>"
      ]
     },
     "metadata": {
      "needs_background": "light"
     },
     "output_type": "display_data"
    },
    {
     "data": {
      "image/png": "[encoded data removed]",
      "text/plain": [
       "<Figure size 720x360 with 2 Axes>"
      ]
     },
     "metadata": {
      "needs_background": "light"
     },
     "output_type": "display_data"
    },
    {
     "data": {
      "image/png": "[encoded data removed]",
      "text/plain": [
       "<Figure size 720x360 with 2 Axes>"
      ]
     },
     "metadata": {
      "needs_background": "light"
     },
     "output_type": "display_data"
    }
   ],
   "source": [
    "popul_f1_scores = []\n",
    "for elem in popul:\n",
    "    cols = [col for col in df_imputed_data_only.columns if df_popul[col] == elem]\n",
    "    print(cols)\n",
    "    if cols:\n",
    "        popul_f1_scores.append(calc_confusion_f1(df_truth_data_only[cols], df_imputed_data_only[cols], IMPUTED_FLAG))"
   ]
  },
  {
   "cell_type": "code",
   "execution_count": 73,
   "metadata": {},
   "outputs": [
    {
     "data": {
      "text/plain": [
       "6"
      ]
     },
     "execution_count": 73,
     "metadata": {},
     "output_type": "execute_result"
    }
   ],
   "source": [
    "len(set(df_popul.values()))"
   ]
  },
  {
   "cell_type": "code",
   "execution_count": 76,
   "metadata": {},
   "outputs": [
    {
     "data": {
      "text/plain": [
       "[0.9822004596545746,\n",
       " 0.9829470992793864,\n",
       " 0.9829550055470481,\n",
       " 0.9798093911780811,\n",
       " 0.9828830031462195,\n",
       " 0.9809982977028763]"
      ]
     },
     "execution_count": 76,
     "metadata": {},
     "output_type": "execute_result"
    }
   ],
   "source": [
    "popul_f1_scores"
   ]
  },
  {
   "cell_type": "code",
   "execution_count": 75,
   "metadata": {},
   "outputs": [
    {
     "data": {
      "text/plain": [
       "['CDX', 'CHS', 'GBR', 'PUR', 'FIN', 'CLM']"
      ]
     },
     "execution_count": 75,
     "metadata": {},
     "output_type": "execute_result"
    }
   ],
   "source": [
    "popul"
   ]
  },
  {
   "cell_type": "code",
   "execution_count": 87,
   "metadata": {},
   "outputs": [
    {
     "data": {
      "text/plain": [
       "Text(0.5, 1.0, 'F1 scores for different populations')"
      ]
     },
     "execution_count": 87,
     "metadata": {},
     "output_type": "execute_result"
    },
    {
     "data": {
      "image/png": "[encoded data removed]",
      "text/plain": [
       "<Figure size 432x288 with 1 Axes>"
      ]
     },
     "metadata": {
      "needs_background": "light"
     },
     "output_type": "display_data"
    }
   ],
   "source": [
    "plt.bar(range(6), popul_f1_scores)\n",
    "plt.xticks(range(6), labels=popul)\n",
    "plt.ylim(0.97, 0.99)\n",
    "plt.title('F1 scores for different populations')"
   ]
  },
  {
   "cell_type": "code",
   "execution_count": null,
   "metadata": {},
   "outputs": [
    {
     "name": "stdout",
     "output_type": "stream",
     "text": [
      "['0|0' '0|0' '0|0' ... '0|0' '0|0' '0|0']\n",
      "['0|0' '0|0' '0|0' ... '0|0' '0|0' '0|0']\n"
     ]
    },
    {
     "name": "stderr",
     "output_type": "stream",
     "text": [
      "ERROR:root:Internal Python error in the inspect module.\n",
      "Below is the traceback from this internal error.\n",
      "\n"
     ]
    },
    {
     "name": "stdout",
     "output_type": "stream",
     "text": [
      "Traceback (most recent call last):\n",
      "  File \"/opt/conda/lib/python3.7/site-packages/IPython/core/interactiveshell.py\", line 3331, in run_code\n",
      "    exec(code_obj, self.user_global_ns, self.user_ns)\n",
      "  File \"<ipython-input-67-bd26d134a64a>\", line 5, in <module>\n",
      "    super_f1_scores.append(calc_confusion_f1(df_truth_data_only[cols], df_imputed_data_only[cols], IMPUTED_FLAG))\n",
      "  File \"<ipython-input-44-3d4b2cbbc8fc>\", line 53, in calc_confusion_f1\n",
      "    CONF = sklearn.metrics.confusion_matrix(truth, preds)\n",
      "  File \"/opt/conda/lib/python3.7/site-packages/sklearn/metrics/_classification.py\", line 293, in confusion_matrix\n",
      "    y_pred = np.array([label_to_ind.get(x, n_labels + 1) for x in y_pred])\n",
      "  File \"/opt/conda/lib/python3.7/site-packages/sklearn/metrics/_classification.py\", line 293, in <listcomp>\n",
      "    y_pred = np.array([label_to_ind.get(x, n_labels + 1) for x in y_pred])\n",
      "KeyboardInterrupt\n",
      "\n",
      "During handling of the above exception, another exception occurred:\n",
      "\n",
      "Traceback (most recent call last):\n",
      "  File \"/opt/conda/lib/python3.7/site-packages/IPython/core/interactiveshell.py\", line 2044, in showtraceback\n",
      "    stb = value._render_traceback_()\n",
      "AttributeError: 'KeyboardInterrupt' object has no attribute '_render_traceback_'\n",
      "\n",
      "During handling of the above exception, another exception occurred:\n",
      "\n",
      "Traceback (most recent call last):\n",
      "  File \"/opt/conda/lib/python3.7/site-packages/IPython/core/ultratb.py\", line 1148, in get_records\n",
      "    return _fixed_getinnerframes(etb, number_of_lines_of_context, tb_offset)\n",
      "  File \"/opt/conda/lib/python3.7/site-packages/IPython/core/ultratb.py\", line 316, in wrapped\n",
      "    return f(*args, **kwargs)\n",
      "  File \"/opt/conda/lib/python3.7/site-packages/IPython/core/ultratb.py\", line 350, in _fixed_getinnerframes\n",
      "    records = fix_frame_records_filenames(inspect.getinnerframes(etb, context))\n",
      "  File \"/opt/conda/lib/python3.7/inspect.py\", line 1502, in getinnerframes\n",
      "    frameinfo = (tb.tb_frame,) + getframeinfo(tb, context)\n",
      "  File \"/opt/conda/lib/python3.7/inspect.py\", line 1460, in getframeinfo\n",
      "    filename = getsourcefile(frame) or getfile(frame)\n",
      "  File \"/opt/conda/lib/python3.7/inspect.py\", line 696, in getsourcefile\n",
      "    if getattr(getmodule(object, filename), '__loader__', None) is not None:\n",
      "  File \"/opt/conda/lib/python3.7/inspect.py\", line 732, in getmodule\n",
      "    for modname, module in list(sys.modules.items()):\n",
      "KeyboardInterrupt\n"
     ]
    },
    {
     "ename": "KeyboardInterrupt",
     "evalue": "",
     "output_type": "error",
     "traceback": [
      "\u001b[0;31m---------------------------------------------------------------------------\u001b[0m"
     ]
    },
    {
     "data": {
      "image/png": "[encoded data removed]",
      "text/plain": [
       "<Figure size 720x360 with 2 Axes>"
      ]
     },
     "metadata": {
      "needs_background": "light"
     },
     "output_type": "display_data"
    }
   ],
   "source": [
    "super_f1_scores = []\n",
    "for elem in super_pop:\n",
    "    cols = [col for col in df_imputed_data_only.columns if df_super_popul[col] == elem]\n",
    "    if cols:\n",
    "        super_f1_scores.append(calc_confusion_f1(df_truth_data_only[cols], df_imputed_data_only[cols], IMPUTED_FLAG))"
   ]
  },
  {
   "cell_type": "markdown",
   "metadata": {},
   "source": [
    "## allele frequency effect on accuracy"
   ]
  },
  {
   "cell_type": "code",
   "execution_count": null,
   "metadata": {},
   "outputs": [],
   "source": [
    "## calculate allele freq\n",
    "\n",
    "x = np.log10(df_truthdose.mean(axis=1) + 0.0002) / 2"
   ]
  },
  {
   "cell_type": "code",
   "execution_count": null,
   "metadata": {},
   "outputs": [],
   "source": [
    "intervals = pd.cut(x, 10, retbins=True)\n",
    "\n",
    "intervals[-1]"
   ]
  },
  {
   "cell_type": "code",
   "execution_count": null,
   "metadata": {},
   "outputs": [],
   "source": []
  }
 ],
 "metadata": {
  "environment": {
   "name": "common-cpu.m46",
   "type": "gcloud",
   "uri": "gcr.io/deeplearning-platform-release/base-cpu:m46"
  },
  "kernelspec": {
   "display_name": "Python 3",
   "language": "python",
   "name": "python3"
  },
  "language_info": {
   "codemirror_mode": {
    "name": "ipython",
    "version": 3
   },
   "file_extension": ".py",
   "mimetype": "text/x-python",
   "name": "python",
   "nbconvert_exporter": "python",
   "pygments_lexer": "ipython3",
   "version": "3.8.8"
  }
 },
 "nbformat": 4,
 "nbformat_minor": 4
}
